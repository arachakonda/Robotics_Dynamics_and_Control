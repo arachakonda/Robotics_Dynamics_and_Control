{
 "cells": [
  {
   "cell_type": "markdown",
   "id": "b974f472",
   "metadata": {},
   "source": [
    "# Understanding Rotation Matrices\n",
    "Consider the tranformation of basis from the black coordinate frame to the brown coordinate frame by rotation through an angle $ \\theta $"
   ]
  },
  {
   "cell_type": "markdown",
   "id": "91df385b",
   "metadata": {},
   "source": []
  }
 ],
 "metadata": {
  "kernelspec": {
   "display_name": "Python 3",
   "language": "python",
   "name": "python3"
  },
  "language_info": {
   "codemirror_mode": {
    "name": "ipython",
    "version": 3
   },
   "file_extension": ".py",
   "mimetype": "text/x-python",
   "name": "python",
   "nbconvert_exporter": "python",
   "pygments_lexer": "ipython3",
   "version": "3.6.9"
  }
 },
 "nbformat": 4,
 "nbformat_minor": 5
}
