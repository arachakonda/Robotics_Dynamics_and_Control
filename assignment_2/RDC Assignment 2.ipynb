{
 "cells": [
  {
   "cell_type": "markdown",
   "id": "c7dd7293",
   "metadata": {},
   "source": [
    "Question 1.1\n",
    "\n",
    "Euler Angle to Rotation Matrix"
   ]
  },
  {
   "cell_type": "code",
   "execution_count": 46,
   "id": "5fc42af8",
   "metadata": {},
   "outputs": [],
   "source": [
    "import numpy as np\n",
    "import matplotlib.pyplot as plt\n",
    "%matplotlib inline\n",
    "np.set_printoptions(suppress = True)\n",
    "\n",
    "#intrinsic rotation of angles in degrees\n",
    "def euler2rot(phi,theta,psi):\n",
    "    c = np.cos\n",
    "    s = np.sin\n",
    "    phi = np.radians(phi)\n",
    "    theta = np.radians(theta)\n",
    "    psi = np.radians(psi)\n",
    "    D = np.array([[c(phi), -s(phi), 0], [s(phi), c(phi), 0], [0,0,1]])\n",
    "    #print(D)\n",
    "    C = np.array([ [c(theta), 0, s(theta)], [0,1,0],[-s(theta), 0, c(theta)]])\n",
    "    #print(C)\n",
    "    B = np.array([[c(psi), -s(psi), 0], [s(psi), c(psi), 0], [0,0,1]])\n",
    "    #print(B)\n",
    "    return D@C@B\n",
    "\n"
   ]
  },
  {
   "cell_type": "code",
   "execution_count": 47,
   "id": "8daf2993",
   "metadata": {},
   "outputs": [
    {
     "name": "stdout",
     "output_type": "stream",
     "text": [
      "[[ 0. -0.  1.]\n",
      " [ 1.  0.  0.]\n",
      " [-0.  1.  0.]]\n"
     ]
    }
   ],
   "source": [
    "R=euler2rot(0, 90, 90)\n",
    "print (R)"
   ]
  },
  {
   "cell_type": "markdown",
   "id": "72687c45",
   "metadata": {},
   "source": [
    "Question 1.2\n",
    "\n",
    "Rotation matrix to Euler angles"
   ]
  },
  {
   "attachments": {
    "image.png": {
     "image/png": "[encoded data removed]"
    }
   },
   "cell_type": "markdown",
   "id": "aec25ee3",
   "metadata": {},
   "source": [
    "![image.png](attachment:image.png)"
   ]
  },
  {
   "cell_type": "code",
   "execution_count": 54,
   "id": "b00d161c",
   "metadata": {},
   "outputs": [
    {
     "data": {
      "text/plain": [
       "(0.0, 90.0, 90.0)"
      ]
     },
     "execution_count": 54,
     "metadata": {},
     "output_type": "execute_result"
    }
   ],
   "source": [
    "def rot2eul(R):\n",
    "    \n",
    "    phi = np.arctan2(R[1,2],R[0,2])\n",
    "    theta = np.arctan2(np.sqrt(1-R[2,2]**2),R[2,2])\n",
    "    psi = np.arctan2(R[2,1],-R[2,0])\n",
    "    \n",
    "    return np.degrees(phi), np.degrees(theta), np.degrees(psi)\n",
    "\n",
    "rot2eul(R)"
   ]
  },
  {
   "cell_type": "code",
   "execution_count": null,
   "id": "dd77826b",
   "metadata": {},
   "outputs": [],
   "source": []
  }
 ],
 "metadata": {
  "kernelspec": {
   "display_name": "Python 3 (ipykernel)",
   "language": "python",
   "name": "python3"
  },
  "language_info": {
   "codemirror_mode": {
    "name": "ipython",
    "version": 3
   },
   "file_extension": ".py",
   "mimetype": "text/x-python",
   "name": "python",
   "nbconvert_exporter": "python",
   "pygments_lexer": "ipython3",
   "version": "3.8.10"
  }
 },
 "nbformat": 4,
 "nbformat_minor": 5
}
