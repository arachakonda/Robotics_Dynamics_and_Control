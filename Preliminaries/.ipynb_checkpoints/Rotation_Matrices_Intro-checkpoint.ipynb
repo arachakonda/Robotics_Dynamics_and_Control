{
 "cells": [
  {
   "cell_type": "markdown",
   "id": "a605af93",
   "metadata": {},
   "source": [
    "This notebook will help develop an understanding of rotation matrices."
   ]
  },
  {
   "attachments": {},
   "cell_type": "markdown",
   "id": "91df385b",
   "metadata": {},
   "source": []
  },
  {
   "cell_type": "markdown",
   "id": "b83f2a15",
   "metadata": {},
   "source": [
    "Consider the tranformation of basis from the black coordinate frame to the brown coordinate frame by rotation through an angle $ \\theta $\n",
    "\n",
    "This can also be looked at as a transformation between space and body fixed frames\n",
    "\n",
    "The new basis is expressed as a sum of vectors of the old basis:\n",
    "\n",
    "$ \\begin{align*}\n",
    "  b_{1} &= \\cos{\\theta} \\hat{i} - \\sin{\\theta} \\hat{j}\\\\\n",
    "  b_{2} &= \\sin{\\theta} \\hat{i} + \\cos{\\theta} \\hat{j}\n",
    "  \\end{align*}$"
   ]
  },
  {
   "cell_type": "markdown",
   "id": "1c5c15ca",
   "metadata": {},
   "source": [
    "We will explore this idea by coding up the transformation in python"
   ]
  },
  {
   "cell_type": "code",
   "execution_count": 1,
   "id": "14c882a4",
   "metadata": {},
   "outputs": [],
   "source": [
    "import numpy as np\n",
    "import matplotlib.pyplot as plt\n",
    "%matplotlib qt"
   ]
  },
  {
   "cell_type": "code",
   "execution_count": 58,
   "id": "92799081",
   "metadata": {},
   "outputs": [
    {
     "name": "stdout",
     "output_type": "stream",
     "text": [
      "[[ 0.70710678 -0.70710678]\n",
      " [ 0.70710678  0.70710678]]\n",
      "[[ 0.70710678 -0.70710678]\n",
      " [ 0.70710678  0.70710678]]\n"
     ]
    }
   ],
   "source": [
    "fig, ((ax1,ax2)) = plt.subplots(1,2)\n",
    "\n",
    "sff_x_axis = [1,0]\n",
    "sff_y_axis = [0,1]\n",
    "\n",
    "x = np.array(sff_x_axis).reshape(2,1) # 2x1 column vector representing X axis\n",
    "y = np.array(sff_y_axis).reshape(2,1) # 2x1 column vector representing Y axis\n",
    "#orthonormal unit vectors of magnitude 1 along the x-axis[1,0](i hat) and y-axis[0,1](j hat)\n",
    "sff = np.array([x,y]).reshape(2,2) # 2x2 Transformation Matrix who's columns represent the x and y axis of the SFF-Space Fixed Frame \n",
    "# forming basis vectors with respect to origin for plotting using quiver function\n",
    "sffp = np.array([[0,0,sff[0][0],sff[1][0]],[0,0,sff[0][1],sff[1][1]]])\n",
    "\n",
    "#plot the space fixed frame\n",
    "X_SFFP, Y_SFFP, U_SFFP, V_SFFP = zip(*sffp)\n",
    "ax1.set_xlim([-5,5])\n",
    "ax1.set_ylim([-5,5])\n",
    "ax1.quiver(X_SFFP, Y_SFFP, U_SFFP, V_SFFP, angles=\"xy\", scale_units=\"xy\", scale=1)\n",
    "fig.show()\n",
    "\n",
    "c = np.cos\n",
    "s = np.sin\n",
    "\n",
    "theta = np.radians(45)\n",
    "def R(theta):\n",
    "    Rm = np.array([[c(theta), -s(theta)],[s(theta), c(theta)]])\n",
    "    return Rm\n",
    "print(R(theta))\n",
    "\n",
    "\n",
    "#returns the basis whose axes are rotated by an angle theta\n",
    "#note that the basis is the columns of bff\n",
    "bff = np.matmul(R(theta), sff)\n",
    "\n",
    "\n",
    "bffp = np.array([[0,0,bff[0][0],bff[1][0]],[0,0,bff[0][1],bff[1][1]]])\n",
    "X_BFFP, Y_BFFP, U_BFFP, V_BFFP = zip(*bffp)\n",
    "ax2.set_xlim([-5,5])\n",
    "ax2.set_ylim([-5,5])\n",
    "ax2.quiver(X_BFFP, Y_BFFP, U_BFFP, V_BFFP, angles=\"xy\", scale_units=\"xy\", scale=1, color='brown')\n",
    "fig.show()"
   ]
  },
  {
   "cell_type": "code",
   "execution_count": null,
   "id": "3717d8e6",
   "metadata": {},
   "outputs": [],
   "source": []
  },
  {
   "cell_type": "code",
   "execution_count": null,
   "id": "287d0ec0",
   "metadata": {},
   "outputs": [],
   "source": []
  },
  {
   "cell_type": "code",
   "execution_count": 57,
   "id": "10a45c4f",
   "metadata": {},
   "outputs": [],
   "source": []
  }
 ],
 "metadata": {
  "kernelspec": {
   "display_name": "Python 3",
   "language": "python",
   "name": "python3"
  },
  "language_info": {
   "codemirror_mode": {
    "name": "ipython",
    "version": 3
   },
   "file_extension": ".py",
   "mimetype": "text/x-python",
   "name": "python",
   "nbconvert_exporter": "python",
   "pygments_lexer": "ipython3",
   "version": "3.6.9"
  }
 },
 "nbformat": 4,
 "nbformat_minor": 5
}
